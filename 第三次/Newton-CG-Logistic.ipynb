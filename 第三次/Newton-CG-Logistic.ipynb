{
 "cells": [
  {
   "cell_type": "markdown",
   "metadata": {},
   "source": [
    "读取文件的内容转化成数组的形式"
   ]
  },
  {
   "cell_type": "code",
   "execution_count": 1,
   "metadata": {},
   "outputs": [
    {
     "name": "stdout",
     "output_type": "stream",
     "text": [
      "[[55.5 69.5]\n",
      " [41.  81.5]\n",
      " [53.5 86. ]\n",
      " [46.  84. ]\n",
      " [41.  73.5]\n",
      " [51.5 69. ]\n",
      " [51.  62.5]\n",
      " [42.  75. ]\n",
      " [53.5 83. ]\n",
      " [57.5 71. ]\n",
      " [42.5 72.5]\n",
      " [41.  80. ]\n",
      " [46.  82. ]\n",
      " [46.  60.5]\n",
      " [49.5 76. ]\n",
      " [41.  76. ]\n",
      " [48.5 72.5]\n",
      " [51.5 82.5]\n",
      " [44.5 70.5]\n",
      " [44.  66. ]\n",
      " [33.  76.5]\n",
      " [33.5 78.5]\n",
      " [31.5 72. ]\n",
      " [33.  81.5]\n",
      " [42.  59.5]\n",
      " [30.  64. ]\n",
      " [61.  45. ]\n",
      " [49.  79. ]\n",
      " [26.5 64.5]\n",
      " [34.  71.5]\n",
      " [42.  83.5]\n",
      " [29.5 74.5]\n",
      " [39.5 70. ]\n",
      " [51.5 66. ]\n",
      " [41.5 71.5]\n",
      " [42.5 79.5]\n",
      " [35.  59.5]\n",
      " [38.5 73.5]\n",
      " [32.  81.5]\n",
      " [46.  60.5]\n",
      " [36.5 53. ]\n",
      " [36.5 53.5]\n",
      " [24.  60.5]\n",
      " [19.  57.5]\n",
      " [34.5 60. ]\n",
      " [37.5 64.5]\n",
      " [35.5 51. ]\n",
      " [37.  50.5]\n",
      " [21.5 42. ]\n",
      " [35.5 58.5]\n",
      " [26.5 68.5]\n",
      " [26.5 55.5]\n",
      " [18.5 67. ]\n",
      " [40.  67. ]\n",
      " [32.5 71.5]\n",
      " [39.  71.5]\n",
      " [43.  55.5]\n",
      " [22.  54. ]\n",
      " [36.  62.5]\n",
      " [31.  55.5]\n",
      " [38.5 76. ]\n",
      " [40.  75. ]\n",
      " [37.5 63. ]\n",
      " [24.5 58. ]\n",
      " [30.  67. ]\n",
      " [33.  56. ]\n",
      " [56.5 61. ]\n",
      " [41.  57. ]\n",
      " [49.5 63. ]\n",
      " [34.5 72.5]\n",
      " [32.5 69. ]\n",
      " [36.  73. ]\n",
      " [27.  53.5]\n",
      " [41.  63.5]\n",
      " [29.5 52.5]\n",
      " [20.  65.5]\n",
      " [38.  65. ]\n",
      " [18.5 74.5]\n",
      " [16.  72.5]\n",
      " [33.5 68. ]]\n",
      "[[1.]\n",
      " [1.]\n",
      " [1.]\n",
      " [1.]\n",
      " [1.]\n",
      " [1.]\n",
      " [1.]\n",
      " [1.]\n",
      " [1.]\n",
      " [1.]\n",
      " [1.]\n",
      " [1.]\n",
      " [1.]\n",
      " [1.]\n",
      " [1.]\n",
      " [1.]\n",
      " [1.]\n",
      " [1.]\n",
      " [1.]\n",
      " [1.]\n",
      " [1.]\n",
      " [1.]\n",
      " [1.]\n",
      " [1.]\n",
      " [1.]\n",
      " [1.]\n",
      " [1.]\n",
      " [1.]\n",
      " [1.]\n",
      " [1.]\n",
      " [1.]\n",
      " [1.]\n",
      " [1.]\n",
      " [1.]\n",
      " [1.]\n",
      " [1.]\n",
      " [1.]\n",
      " [1.]\n",
      " [1.]\n",
      " [1.]\n",
      " [0.]\n",
      " [0.]\n",
      " [0.]\n",
      " [0.]\n",
      " [0.]\n",
      " [0.]\n",
      " [0.]\n",
      " [0.]\n",
      " [0.]\n",
      " [0.]\n",
      " [0.]\n",
      " [0.]\n",
      " [0.]\n",
      " [0.]\n",
      " [0.]\n",
      " [0.]\n",
      " [0.]\n",
      " [0.]\n",
      " [0.]\n",
      " [0.]\n",
      " [0.]\n",
      " [0.]\n",
      " [0.]\n",
      " [0.]\n",
      " [0.]\n",
      " [0.]\n",
      " [0.]\n",
      " [0.]\n",
      " [0.]\n",
      " [0.]\n",
      " [0.]\n",
      " [0.]\n",
      " [0.]\n",
      " [0.]\n",
      " [0.]\n",
      " [0.]\n",
      " [0.]\n",
      " [0.]\n",
      " [0.]\n",
      " [0.]]\n"
     ]
    }
   ],
   "source": [
    "import numpy as np\n",
    "\n",
    "def file2matrix(filename,length=2):\n",
    "    fr=open(filename)\n",
    "    lines=fr.readlines()\n",
    "    numberoflines=len(lines)\n",
    "    returnmat=np.zeros((numberoflines,length))\n",
    "    index=0\n",
    "    for line in lines:\n",
    "        line=line.strip()\n",
    "        listofline=line.split('   ')\n",
    "        # print(listofline)\n",
    "        returnmat[index,:]=listofline\n",
    "        index=index+1\n",
    "    return returnmat\n",
    " \n",
    "if __name__==\"__main__\":\n",
    "    print(file2matrix('./ex4x.dat'))\n",
    "    print(file2matrix('./ex4y.dat',1)) "
   ]
  },
  {
   "cell_type": "markdown",
   "metadata": {},
   "source": [
    "数据归一化"
   ]
  },
  {
   "cell_type": "code",
   "execution_count": 2,
   "metadata": {},
   "outputs": [
    {
     "name": "stdout",
     "output_type": "stream",
     "text": [
      "(80, 2)\n"
     ]
    }
   ],
   "source": [
    "import numpy as np\n",
    " \n",
    "def normalizefeature(x):\n",
    "    x_norm=x\n",
    "    mu=np.mean(x,axis=0)\n",
    "    sigma=np.std(x,axis=0)\n",
    "    x_norm=(x-mu)/sigma\n",
    "    # for i in range(x.shape[1]):\n",
    "    #     x_norm[:,i]=(x[:,i]-mu)/sigma\n",
    "    return x_norm,mu,sigma\n",
    " \n",
    "if __name__==\"__main__\":\n",
    "    returnmat=file2matrix(\"./ex4x.dat\")\n",
    "    x_norm,mu,sigma=normalizefeature(returnmat)\n",
    "    print(x_norm.shape)"
   ]
  },
  {
   "cell_type": "markdown",
   "metadata": {},
   "source": [
    "数据的可视化"
   ]
  },
  {
   "cell_type": "code",
   "execution_count": 3,
   "metadata": {},
   "outputs": [
    {
     "data": {
      "image/png": "[encoded data removed]",
      "text/plain": [
       "<Figure size 432x288 with 1 Axes>"
      ]
     },
     "metadata": {
      "needs_background": "light"
     },
     "output_type": "display_data"
    }
   ],
   "source": [
    "import matplotlib.pyplot as plt\n",
    "import numpy as np\n",
    " \n",
    "def plot_data(*agrs):\n",
    "    # 这里很显然将数据文件的数据转化成矩阵的形式\n",
    "    X = file2matrix('./ex4x.dat')\n",
    "    # print(X.shape)#(80,2)\n",
    "    y = file2matrix('./ex4y.dat', 1)\n",
    "    # print(y.shape)#(80,1)\n",
    " \n",
    "    X,_,_=normalizefeature(X)\n",
    "    pos = list(np.where(y == 1.0)[0])\n",
    "    X_pos = X[pos]\n",
    "    neg = list(np.where(y == 0.0)[0])\n",
    "    X_neg = X[neg]\n",
    "    plt.plot(X_pos[:,0],X_pos[:,1],'+',label='admitted')\n",
    "    plt.plot(X_neg[:,0],X_neg[:,1],'o',label='Not admitted')\n",
    "    plt.xlabel(\"exam1 score\")\n",
    "    plt.ylabel(\"exam2 score\")\n",
    "    plt.legend()\n",
    "    plt.show()\n",
    " \n",
    " \n",
    "if __name__==\"__main__\":\n",
    "    plot_data()"
   ]
  },
  {
   "cell_type": "markdown",
   "metadata": {},
   "source": [
    "假设函数为Sigmoid函数"
   ]
  },
  {
   "cell_type": "code",
   "execution_count": 4,
   "metadata": {},
   "outputs": [],
   "source": [
    "import numpy as np\n",
    " \n",
    "def sigmoid(z):\n",
    "    res=1/(1+np.exp(-z))\n",
    "    return res"
   ]
  },
  {
   "cell_type": "markdown",
   "metadata": {},
   "source": [
    "计算代价的文件"
   ]
  },
  {
   "cell_type": "code",
   "execution_count": 5,
   "metadata": {},
   "outputs": [
    {
     "name": "stdout",
     "output_type": "stream",
     "text": [
      "1.6854047221722175\n"
     ]
    }
   ],
   "source": [
    "import numpy as np\n",
    " \n",
    "def compute_loss(x,y,theta):\n",
    "    # h=sigmoid(np.dot(x,theta))\n",
    "    # loss=-1/x.shape[0]*(np.dot(y.T,np.log(h))+np.dot((1-y).T,np.log(1-h)))\n",
    "    loss=-np.sum((np.dot(y.T,np.log(sigmoid(np.dot(x,theta))))\n",
    "           +np.dot((1-y).T,np.log(1-sigmoid(np.dot(x,theta)))))/x.shape[0])\n",
    "    return loss\n",
    " \n",
    "if __name__=='__main__':\n",
    "    x=np.array([[1,2],[2,3],[3,4]])\n",
    "    y=np.array([1,0,1])\n",
    "    theta=np.array([[1],[1]])\n",
    "    print(compute_loss(x,y,theta))"
   ]
  },
  {
   "cell_type": "markdown",
   "metadata": {},
   "source": [
    "牛顿法进行参数的更新"
   ]
  },
  {
   "cell_type": "code",
   "execution_count": 6,
   "metadata": {},
   "outputs": [
    {
     "name": "stdout",
     "output_type": "stream",
     "text": [
      "[[1 0]\n",
      " [0 2]]\n",
      "theta [[-16.37873983]\n",
      " [  0.14834074]\n",
      " [  0.15890842]]\n",
      "J [0.6931471805599452, 0.4409414251174157, 0.40889169253305635, 0.4055107760590174, 0.40544745391660414]\n"
     ]
    },
    {
     "data": {
      "image/png": "[encoded data removed]",
      "text/plain": [
       "<Figure size 432x288 with 1 Axes>"
      ]
     },
     "metadata": {
      "needs_background": "light"
     },
     "output_type": "display_data"
    },
    {
     "data": {
      "image/png": "[encoded data removed]",
      "text/plain": [
       "<Figure size 432x288 with 1 Axes>"
      ]
     },
     "metadata": {
      "needs_background": "light"
     },
     "output_type": "display_data"
    }
   ],
   "source": [
    "import numpy as np\n",
    "import matplotlib.pyplot as plt\n",
    " \n",
    "a=np.diag(np.array([1,2]))\n",
    "print(a)\n",
    " \n",
    "def nt(x,y,theta,iterations):\n",
    "    n,m=x.shape\n",
    "    J_loss=[]\n",
    "    orig_loss=np.inf\n",
    "    for i in range(iterations):\n",
    "        l=compute_loss(x,y,theta)\n",
    "        J_loss.append(l)\n",
    "        h=sigmoid(np.dot(x,theta))#(n,1)\n",
    "        # print(\"h-shape\",h.shape)\n",
    "        j_first_order=1/n*np.dot(x.T,h-y)#(m,1)\n",
    "        j_second_order=1/n*np.dot(np.dot(np.dot(x.T,np.diag(h.reshape(n))),np.diag(1-h.reshape(n))),x)#(m,m)\n",
    "        theta=theta-np.dot(np.linalg.inv(j_second_order),j_first_order)#(m,1)\n",
    "        # print(\"theta-shape\",theta.shape)\n",
    "    return theta,J_loss\n",
    " \n",
    "if __name__==\"__main__\":\n",
    "    X = file2matrix('./ex4x.dat')\n",
    "    # print(X.shape)#(80,2)\n",
    "    # returnmat = X\n",
    "    y = file2matrix('./ex4y.dat', 1)\n",
    "    # print(y.shape)#(80,1)\n",
    " \n",
    "    n, m = X.shape\n",
    "    X = np.column_stack((np.ones(n), X))\n",
    "    # print(X.shape)\n",
    "    m = m + 1\n",
    "    theta = np.zeros((m, 1))\n",
    " \n",
    "    theta, J_his = nt(X, y, theta, 5)\n",
    " \n",
    "    print(\"theta\", theta)\n",
    "    print(\"J\", J_his)\n",
    "    plt.xlabel(\"iteration\")\n",
    "    plt.ylabel(\"Loss\")\n",
    "    plt.plot(np.arange(5), J_his)\n",
    "    plt.show()\n",
    " \n",
    "    pos = list(np.where(y == 1.0)[0])\n",
    "    X_pos = X[pos,1:3]\n",
    "    neg = list(np.where(y == 0.0)[0])\n",
    "    X_neg = X[neg,1:3]\n",
    "    plt.plot(X_pos[:, 0], X_pos[:, 1], '+', label='admitted')\n",
    "    plt.plot(X_neg[:, 0], X_neg[:, 1], 'o', label='Not admitted')\n",
    "    plt.xlabel(\"exam1 score\")\n",
    "    plt.ylabel(\"exam2 score\")\n",
    "    plt.legend()\n",
    " \n",
    "    xx = np.linspace(20, 70, 6)\n",
    "    yy = []\n",
    "    for i in xx:\n",
    "        res = (i * -(theta[1][0]) - (theta[0][0])) / (theta[2][0])\n",
    "        yy.append(res)\n",
    "    plt.plot(xx, yy)\n",
    "    plt.show()"
   ]
  }
 ],
 "metadata": {
  "interpreter": {
   "hash": "64049391f96ba131a9e04c522b3e94cd43efdce572641ac76d85c52ad35b8cda"
  },
  "kernelspec": {
   "display_name": "Python 3.8.3 ('ML')",
   "language": "python",
   "name": "python3"
  },
  "language_info": {
   "codemirror_mode": {
    "name": "ipython",
    "version": 3
   },
   "file_extension": ".py",
   "mimetype": "text/x-python",
   "name": "python",
   "nbconvert_exporter": "python",
   "pygments_lexer": "ipython3",
   "version": "3.8.3"
  },
  "orig_nbformat": 4
 },
 "nbformat": 4,
 "nbformat_minor": 2
}
