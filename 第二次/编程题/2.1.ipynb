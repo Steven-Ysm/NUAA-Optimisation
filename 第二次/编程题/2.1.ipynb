{
 "cells": [
  {
   "cell_type": "markdown",
   "metadata": {},
   "source": [
    "设定随机种子。"
   ]
  },
  {
   "cell_type": "code",
   "execution_count": 1,
   "metadata": {},
   "outputs": [],
   "source": [
    "import random\n",
    "\n",
    "random.seed ( 97006855 )"
   ]
  },
  {
   "cell_type": "markdown",
   "metadata": {},
   "source": [
    "生成随机的矩阵 A 和向量 u 以使得 b=Au。第一次实验，给定正则化系数 μ=10−3。"
   ]
  },
  {
   "cell_type": "code",
   "execution_count": 2,
   "metadata": {},
   "outputs": [],
   "source": [
    "import numpy as np\n",
    "from scipy.sparse import rand\n",
    "m = 512\n",
    "n = 1024\n",
    "A = np.random.rand(m, n)\n",
    "u = rand(n, 1, 0.1)\n",
    "b = A * u\n",
    "mu = 1e-3"
   ]
  },
  {
   "cell_type": "markdown",
   "metadata": {},
   "source": [
    "L 为 A⊤A 的最大特征值，用于步长的选取。"
   ]
  },
  {
   "cell_type": "code",
   "execution_count": 6,
   "metadata": {},
   "outputs": [],
   "source": [
    "from scipy.sparse.linalg import eigs\n",
    "L = np.dot(A.T,A)\n",
    "x0 = np.random.rand(n, 1)"
   ]
  }
 ],
 "metadata": {
  "interpreter": {
   "hash": "01d7dbb1017f6961fd25cab4a77da58ab8405854de8dde474a2f7e819009181a"
  },
  "kernelspec": {
   "display_name": "Python 3.7.6 ('base')",
   "language": "python",
   "name": "python3"
  },
  "language_info": {
   "codemirror_mode": {
    "name": "ipython",
    "version": 3
   },
   "file_extension": ".py",
   "mimetype": "text/x-python",
   "name": "python",
   "nbconvert_exporter": "python",
   "pygments_lexer": "ipython3",
   "version": "3.7.6"
  },
  "orig_nbformat": 4
 },
 "nbformat": 4,
 "nbformat_minor": 2
}
